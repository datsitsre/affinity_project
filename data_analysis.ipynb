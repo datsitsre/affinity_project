{
 "cells": [
  {
   "cell_type": "code",
   "execution_count": null,
   "metadata": {},
   "outputs": [],
   "source": [
    "#Install modules\n",
    "!pip3 install pandas \n",
    "!pip3 install numpy"
   ]
  },
  {
   "cell_type": "code",
   "execution_count": 5,
   "metadata": {},
   "outputs": [],
   "source": [
    "# import library\n",
    "#import numpy as np\n",
    "import pandas as pd\n",
    "import numpy as np"
   ]
  },
  {
   "cell_type": "code",
   "execution_count": 7,
   "metadata": {},
   "outputs": [
    {
     "name": "stderr",
     "output_type": "stream",
     "text": [
      "C:\\Users\\DELL\\AppData\\Local\\Temp\\ipykernel_13708\\472753791.py:3: DtypeWarning: Columns (2) have mixed types. Specify dtype option on import or set low_memory=False.\n",
      "  df_orders = pd.read_csv(\"orders.csv\", index_col=0)\n"
     ]
    }
   ],
   "source": [
    "#load the datasets\n",
    "df_trucks = pd.read_csv(\"trucks.csv\")\n",
    "df_orders = pd.read_csv(\"orders.csv\", index_col=0)"
   ]
  },
  {
   "cell_type": "code",
   "execution_count": null,
   "metadata": {},
   "outputs": [],
   "source": [
    "# Explore the data\n",
    "df_trucks.head()\n",
    "df_orders.head()"
   ]
  },
  {
   "cell_type": "code",
   "execution_count": null,
   "metadata": {},
   "outputs": [],
   "source": [
    "#Convert data columns\n",
    "df_orders['dateGenerated'] = pd.to_datetime(df_orders['dateGenerated'])"
   ]
  },
  {
   "cell_type": "code",
   "execution_count": null,
   "metadata": {},
   "outputs": [],
   "source": [
    "df_orders.head()"
   ]
  },
  {
   "cell_type": "code",
   "execution_count": 11,
   "metadata": {},
   "outputs": [],
   "source": [
    "# retrieve pending orderss\n",
    "df_orders_pending = df_orders[df_orders['status'] == 'PENDING']"
   ]
  },
  {
   "cell_type": "code",
   "execution_count": null,
   "metadata": {},
   "outputs": [],
   "source": [
    "#Tracks available\n",
    "df_truck_available = len(df_trucks['status'] == 'Active')\n",
    "#Drop pandas index default\n",
    "df_orders.drop(columns=['Unnamed: 0'], inplace=True)"
   ]
  },
  {
   "cell_type": "markdown",
   "metadata": {},
   "source": []
  },
  {
   "cell_type": "code",
   "execution_count": 13,
   "metadata": {},
   "outputs": [
    {
     "data": {
      "text/html": [
       "<div>\n",
       "<style scoped>\n",
       "    .dataframe tbody tr th:only-of-type {\n",
       "        vertical-align: middle;\n",
       "    }\n",
       "\n",
       "    .dataframe tbody tr th {\n",
       "        vertical-align: top;\n",
       "    }\n",
       "\n",
       "    .dataframe thead th {\n",
       "        text-align: right;\n",
       "    }\n",
       "</style>\n",
       "<table border=\"1\" class=\"dataframe\">\n",
       "  <thead>\n",
       "    <tr style=\"text-align: right;\">\n",
       "      <th></th>\n",
       "      <th>orderId</th>\n",
       "      <th>clientId</th>\n",
       "      <th>lastModified</th>\n",
       "      <th>status</th>\n",
       "      <th>truckKey</th>\n",
       "      <th>location</th>\n",
       "      <th>fee</th>\n",
       "      <th>volume(kg)</th>\n",
       "      <th>deliveryItem</th>\n",
       "      <th>dateGenerated</th>\n",
       "    </tr>\n",
       "  </thead>\n",
       "  <tbody>\n",
       "    <tr>\n",
       "      <th>0</th>\n",
       "      <td>01GGAPGS3BZKF3AKKRRHPBCMMG</td>\n",
       "      <td>320232240</td>\n",
       "      <td>2025-03-02 18:20:59</td>\n",
       "      <td>PENDING</td>\n",
       "      <td>NaN</td>\n",
       "      <td>KINTAMPO</td>\n",
       "      <td>6400.0</td>\n",
       "      <td>340.0</td>\n",
       "      <td>BED</td>\n",
       "      <td>2025-03-02 18:20:59</td>\n",
       "    </tr>\n",
       "    <tr>\n",
       "      <th>1</th>\n",
       "      <td>01GGAPK4BCXD9S96QXFYD65E20</td>\n",
       "      <td>2420001880</td>\n",
       "      <td>2025-03-02 18:20:59</td>\n",
       "      <td>PENDING</td>\n",
       "      <td>NaN</td>\n",
       "      <td>KINTAMPO</td>\n",
       "      <td>320.0</td>\n",
       "      <td>17.0</td>\n",
       "      <td>BED</td>\n",
       "      <td>2025-03-02 18:20:59</td>\n",
       "    </tr>\n",
       "    <tr>\n",
       "      <th>2</th>\n",
       "      <td>01GGAPRNS3ET0JC79QTAX8PG46</td>\n",
       "      <td>043730707</td>\n",
       "      <td>2025-03-02 18:20:59</td>\n",
       "      <td>PENDING</td>\n",
       "      <td>NaN</td>\n",
       "      <td>KINTAMPO</td>\n",
       "      <td>3200.0</td>\n",
       "      <td>170.0</td>\n",
       "      <td>BED</td>\n",
       "      <td>2025-03-02 18:20:59</td>\n",
       "    </tr>\n",
       "    <tr>\n",
       "      <th>3</th>\n",
       "      <td>01GGAPX6EG5S77Y5B39SHNXEAM</td>\n",
       "      <td>028737136</td>\n",
       "      <td>2025-03-02 18:20:59</td>\n",
       "      <td>PENDING</td>\n",
       "      <td>NaN</td>\n",
       "      <td>KINTAMPO</td>\n",
       "      <td>640.0</td>\n",
       "      <td>34.0</td>\n",
       "      <td>BED</td>\n",
       "      <td>2025-03-02 18:20:59</td>\n",
       "    </tr>\n",
       "    <tr>\n",
       "      <th>4</th>\n",
       "      <td>01GGAPYCWBVZQEFFM0DA1J9VT3</td>\n",
       "      <td>038457808</td>\n",
       "      <td>2025-03-02 18:20:59</td>\n",
       "      <td>PENDING</td>\n",
       "      <td>NaN</td>\n",
       "      <td>KINTAMPO</td>\n",
       "      <td>1600.0</td>\n",
       "      <td>85.0</td>\n",
       "      <td>BED</td>\n",
       "      <td>2025-03-02 18:20:59</td>\n",
       "    </tr>\n",
       "  </tbody>\n",
       "</table>\n",
       "</div>"
      ],
      "text/plain": [
       "                      orderId    clientId         lastModified   status  \\\n",
       "0  01GGAPGS3BZKF3AKKRRHPBCMMG   320232240  2025-03-02 18:20:59  PENDING   \n",
       "1  01GGAPK4BCXD9S96QXFYD65E20  2420001880  2025-03-02 18:20:59  PENDING   \n",
       "2  01GGAPRNS3ET0JC79QTAX8PG46   043730707  2025-03-02 18:20:59  PENDING   \n",
       "3  01GGAPX6EG5S77Y5B39SHNXEAM   028737136  2025-03-02 18:20:59  PENDING   \n",
       "4  01GGAPYCWBVZQEFFM0DA1J9VT3   038457808  2025-03-02 18:20:59  PENDING   \n",
       "\n",
       "  truckKey  location     fee  volume(kg) deliveryItem        dateGenerated  \n",
       "0      NaN  KINTAMPO  6400.0       340.0          BED  2025-03-02 18:20:59  \n",
       "1      NaN  KINTAMPO   320.0        17.0          BED  2025-03-02 18:20:59  \n",
       "2      NaN  KINTAMPO  3200.0       170.0          BED  2025-03-02 18:20:59  \n",
       "3      NaN  KINTAMPO   640.0        34.0          BED  2025-03-02 18:20:59  \n",
       "4      NaN  KINTAMPO  1600.0        85.0          BED  2025-03-02 18:20:59  "
      ]
     },
     "execution_count": 13,
     "metadata": {},
     "output_type": "execute_result"
    }
   ],
   "source": [
    "#Explore orders that are pending\n",
    "df_orders_pending.head()"
   ]
  },
  {
   "cell_type": "code",
   "execution_count": 15,
   "metadata": {},
   "outputs": [],
   "source": [
    "# Explore the Pending order locations\n",
    "df_orders_pend_locat_accra = df_orders_pending[df_orders_pending['location'] == 'ACCRA'] \n",
    "df_orders_pend_locat_kintanpo = df_orders_pending[df_orders_pending['location'] == 'KINTAMPO'] \n",
    "df_orders_pend_locat_bolga = df_orders_pending[df_orders_pending['location'] == 'BOLGATANGA'] \n",
    "df_orders_pend_locat_tema = df_orders_pending[df_orders_pending['location'] == 'TEMA'] "
   ]
  },
  {
   "cell_type": "code",
   "execution_count": null,
   "metadata": {},
   "outputs": [],
   "source": [
    "#Data metrics\n",
    "print(f\"Total orders: {len(df_orders)}\")\n",
    "print(f\"Pending orders: {len(df_orders_pending)}\")\n",
    "print(f\"Destination centers: {len(df_centers)}\")\n",
    "print(f\"Available trucks: {df_truck_available}\")"
   ]
  },
  {
   "cell_type": "code",
   "execution_count": null,
   "metadata": {},
   "outputs": [],
   "source": []
  },
  {
   "cell_type": "markdown",
   "metadata": {},
   "source": [
    "<h4>The Recommendation Process</h4>\n",
    "<ul>\n",
    "    <li> Pick pending orders</li>\n",
    "    <li>Check for availability of truck and space in compartment </li>\n",
    "    <li>Calcuate space for the goods against the allocated space</li>\n",
    "    <li>Assign the truck the pending orders that meets it load space</li>\n",
    "</ul>"
   ]
  },
  {
   "cell_type": "markdown",
   "metadata": {},
   "source": [
    "<h3> Key insights </h3>\n",
    "<ol>\n",
    "    <li> Each Distribution center has a fleet of truck </li>\n",
    "    <li> Trucks can have various orders at a certain time </li>\n",
    "    <li> Trucks can be overloaded or reduce quatity </li>\n",
    "</ol>"
   ]
  },
  {
   "cell_type": "code",
   "execution_count": null,
   "metadata": {},
   "outputs": [],
   "source": [
    "data_volume_cal = 0\n",
    "data_truck = len(df_trucks.iloc[:]['volume(kg)'])\n",
    "\n",
    "for dat_v in range(0, data_len):\n",
    "    #print(df_orders_pend_locat_bolga.iloc[:]['volume(kg)'].values[dat_v])\n",
    "    if data_volume_cal < df_trucks.iloc[:]['volume(kg)'].values[0]:\n",
    "        data_volume_cal += df_orders_pend_locat_bolga.iloc[:]['volume(kg)'].values[data_v] \n",
    "    elif "
   ]
  },
  {
   "cell_type": "code",
   "execution_count": null,
   "metadata": {},
   "outputs": [],
   "source": [
    "# Location with most orders\n",
    "df_orders_pending_location = df_orders_pending.groupby(by=['status', 'location'], sort=True).count()"
   ]
  },
  {
   "cell_type": "code",
   "execution_count": null,
   "metadata": {},
   "outputs": [],
   "source": [
    "data_trucks = [a for a in df_trucks.iloc[:]['volume(kg)']]\n",
    "print(data_trucks)"
   ]
  },
  {
   "cell_type": "code",
   "execution_count": null,
   "metadata": {},
   "outputs": [],
   "source": [
    "''' \n",
    "Algorithm\n",
    "if the order_sets is less than a truck capacity then\n",
    "  add additional capacity\n",
    " elif the order_set is greater than truck capacity then\n",
    "    assign an clientID and orderID \n",
    "    assign a truck \n",
    "    check if truck is status is active\n",
    "'''"
   ]
  }
 ],
 "metadata": {
  "kernelspec": {
   "display_name": "Python 3",
   "language": "python",
   "name": "python3"
  },
  "language_info": {
   "codemirror_mode": {
    "name": "ipython",
    "version": 3
   },
   "file_extension": ".py",
   "mimetype": "text/x-python",
   "name": "python",
   "nbconvert_exporter": "python",
   "pygments_lexer": "ipython3",
   "version": "3.12.9"
  }
 },
 "nbformat": 4,
 "nbformat_minor": 2
}
